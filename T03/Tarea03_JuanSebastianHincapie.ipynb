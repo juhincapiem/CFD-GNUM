{
 "cells": [
  {
   "cell_type": "code",
   "execution_count": 23,
   "id": "e4f82fe1",
   "metadata": {},
   "outputs": [
    {
     "name": "stdout",
     "output_type": "stream",
     "text": [
      "Ingrese el peso (sólo el valor): 85\n",
      "(K)g o (L)bs: l\n"
     ]
    }
   ],
   "source": [
    "try:\n",
    "    peso = float(input(\"Ingrese el peso (sólo el valor): \"))\n",
    "    unidad = input(\"(K)g o (L)bs: \")\n",
    "except:\n",
    "    print(\"No ingresó un valor valido. Debe ser un número.\")"
   ]
  },
  {
   "cell_type": "code",
   "execution_count": 24,
   "id": "a090f7b5",
   "metadata": {},
   "outputs": [
    {
     "name": "stdout",
     "output_type": "stream",
     "text": [
      "Su peso en Kg es:  38.555\n",
      "Conversión terminada\n"
     ]
    }
   ],
   "source": [
    "if unidad.upper() == \"K\":\n",
    "    print(\"Su peso en Lbs es: {:.3f}\".format(peso*2.20462))\n",
    "    print(\"Conversión terminada\")\n",
    "elif unidad.upper() == \"L\":\n",
    "    print(\"Su peso en Kg es:  {:.3f}\".format(peso/2.20462))\n",
    "    print(\"Conversión terminada\")\n",
    "else:\n",
    "    print(\"La unidad suministrada está errada.\\nPor favor ingrese 'L' o 'K'.\")\n",
    "    print(\"Conversión terminada\")"
   ]
  }
 ],
 "metadata": {
  "kernelspec": {
   "display_name": "Python 3 (ipykernel)",
   "language": "python",
   "name": "python3"
  },
  "language_info": {
   "codemirror_mode": {
    "name": "ipython",
    "version": 3
   },
   "file_extension": ".py",
   "mimetype": "text/x-python",
   "name": "python",
   "nbconvert_exporter": "python",
   "pygments_lexer": "ipython3",
   "version": "3.10.11"
  }
 },
 "nbformat": 4,
 "nbformat_minor": 5
}
