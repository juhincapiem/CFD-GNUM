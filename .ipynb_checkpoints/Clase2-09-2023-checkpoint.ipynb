{
 "cells": [
  {
   "cell_type": "code",
   "execution_count": 2,
   "id": "675e3c4b",
   "metadata": {},
   "outputs": [
    {
     "name": "stdout",
     "output_type": "stream",
     "text": [
      "PYTHON PARA PRINCIPIANTES\n",
      "Python para principiantes\n",
      "True\n"
     ]
    }
   ],
   "source": [
    "course = \"python para principiantes\"\n",
    "print(course.upper())\n",
    "print(course.capitalize())\n",
    "print(course.isascii())"
   ]
  },
  {
   "cell_type": "code",
   "execution_count": 5,
   "id": "3251121f",
   "metadata": {},
   "outputs": [
    {
     "name": "stdout",
     "output_type": "stream",
     "text": [
      "¿Cuál es su nombre?: JSHM\n",
      "¿En qué año nació usted?: 1999\n",
      "Hello, jshm\n",
      "usted tiene 24 años\n"
     ]
    }
   ],
   "source": [
    "import datetime\n",
    "\n",
    "name = input(\"¿Cuál es su nombre?: \")\n",
    "yob = input(\"¿En qué año nació usted?: \")\n",
    "today = datetime.datetime.now()\n",
    "currentyear = today.year\n",
    "edad = currentyear-int(yob)\n",
    "print(f\"Hello, {name.lower()}\\nusted tiene {edad} años\")"
   ]
  },
  {
   "cell_type": "code",
   "execution_count": 7,
   "id": "32cf3b6b",
   "metadata": {},
   "outputs": [
    {
     "name": "stdout",
     "output_type": "stream",
     "text": [
      "6\n",
      "2\n"
     ]
    }
   ],
   "source": [
    "print(20//3)\n",
    "print(20%3)"
   ]
  },
  {
   "cell_type": "code",
   "execution_count": null,
   "id": "7d964f9a",
   "metadata": {},
   "outputs": [],
   "source": []
  }
 ],
 "metadata": {
  "kernelspec": {
   "display_name": "Python 3 (ipykernel)",
   "language": "python",
   "name": "python3"
  },
  "language_info": {
   "codemirror_mode": {
    "name": "ipython",
    "version": 3
   },
   "file_extension": ".py",
   "mimetype": "text/x-python",
   "name": "python",
   "nbconvert_exporter": "python",
   "pygments_lexer": "ipython3",
   "version": "3.10.11"
  }
 },
 "nbformat": 4,
 "nbformat_minor": 5
}
