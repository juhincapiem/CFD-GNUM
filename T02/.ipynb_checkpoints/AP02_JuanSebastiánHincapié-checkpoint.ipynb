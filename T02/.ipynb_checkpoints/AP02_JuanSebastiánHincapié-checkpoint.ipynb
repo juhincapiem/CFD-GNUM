{
 "cells": [
  {
   "cell_type": "code",
   "execution_count": 1,
   "id": "e837e107",
   "metadata": {},
   "outputs": [],
   "source": [
    "import numpy as np"
   ]
  },
  {
   "cell_type": "code",
   "execution_count": 8,
   "id": "e7800c4f",
   "metadata": {},
   "outputs": [
    {
     "name": "stdout",
     "output_type": "stream",
     "text": [
      "Ingrese tres números. Si no ingresa un número, el sistema asignará automáticamente un 1 \n",
      "\n",
      "¿Cuál es el número?: 123\n",
      "¿Cuál es el número?: 20.555\n",
      "¿Cuál es el número?: 0.214\n"
     ]
    }
   ],
   "source": [
    "x = np.ones(3)\n",
    "print(\"Ingrese tres números. Si no ingresa un número válido, el sistema asignará automáticamente un 1 \\n\")\n",
    "for i in range(3):\n",
    "    try:\n",
    "        x[i] = np.float64(input('¿Cuál es el número?: '))\n",
    "    except:\n",
    "        print(\"No ingresó un número \\n\")"
   ]
  },
  {
   "cell_type": "code",
   "execution_count": 9,
   "id": "b57a8ba1",
   "metadata": {},
   "outputs": [
    {
     "name": "stdout",
     "output_type": "stream",
     "text": [
      "Los número ingresados fueron: 123.0, 20.555, 0.214\n",
      "La suma de estos tres números es: 143.769\n",
      "Los respectivos porcentajes son: 85.55390939632326%, 14.297240712531908%, 0.14884989114482258%\n"
     ]
    }
   ],
   "source": [
    "suma = np.sum(x, dtype = np.float64)\n",
    "\n",
    "#print(\"Los número ingresados fueron: {}, {}, {}\").format(x[0],x[1],x[2])\n",
    "print(\"Los número ingresados fueron: \"+ str(x[0])+\", \"+ str(x[1])+\", \"+ str(x[2]))\n",
    "print(\"La suma de estos tres números es: \"+ str(suma))\n",
    "print(\"Los respectivos porcentajes son: \"+ str(x[0]/suma*100)+\"%\"+\", \"+ str(x[1]/suma*100)+\"%\"+\", \"+ str(x[2]/suma*100)+\"%\")"
   ]
  },
  {
   "cell_type": "code",
   "execution_count": null,
   "id": "73a6b9d7",
   "metadata": {},
   "outputs": [],
   "source": []
  }
 ],
 "metadata": {
  "kernelspec": {
   "display_name": "Python 3 (ipykernel)",
   "language": "python",
   "name": "python3"
  },
  "language_info": {
   "codemirror_mode": {
    "name": "ipython",
    "version": 3
   },
   "file_extension": ".py",
   "mimetype": "text/x-python",
   "name": "python",
   "nbconvert_exporter": "python",
   "pygments_lexer": "ipython3",
   "version": "3.10.11"
  }
 },
 "nbformat": 4,
 "nbformat_minor": 5
}
