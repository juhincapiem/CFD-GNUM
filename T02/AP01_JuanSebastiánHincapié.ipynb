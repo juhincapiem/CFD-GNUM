{
 "cells": [
  {
   "cell_type": "code",
   "execution_count": 15,
   "id": "158c5cf3",
   "metadata": {},
   "outputs": [
    {
     "name": "stdout",
     "output_type": "stream",
     "text": [
      "Año de nacimiento: 1999\n",
      "¿Estudiante nuevo?: False\n",
      "Ingrese sus gastos mensuales: 120.33\n"
     ]
    }
   ],
   "source": [
    "age = int(input(\"Año de nacimiento: \"))\n",
    "edad = 2023-age\n",
    "siNuevo = input(\"¿Estudiante nuevo?: \")\n",
    "if siNuevo.capitalize() == \"True\":\n",
    "    siNuevo = \"Es primiparo\"\n",
    "else:\n",
    "    siNuevo = \"No es primiparo\"\n",
    "mensuales = float(input(\"Ingrese sus gastos mensuales: \"))\n",
    "transport = 0.3*mensuales\n",
    "alimentacion = 0.32*mensuales\n",
    "alojamiento = 0.38*mensuales\n"
   ]
  },
  {
   "cell_type": "code",
   "execution_count": 19,
   "id": "bfa082a3",
   "metadata": {},
   "outputs": [
    {
     "name": "stdout",
     "output_type": "stream",
     "text": [
      "El estudiante nació en el año 1999 y tiene 24\n",
      "Información adicional: No es primiparo\n",
      "Los gastos mensuales son de 120.33 distribuidos en:\n",
      "Transporte: 36.099 \n",
      "Alimentación: 38.5056 \n",
      "Alimentación: 45.7254\n"
     ]
    }
   ],
   "source": [
    "print(\"El estudiante nació en el año\",age, \"y tiene\",edad)\n",
    "print(\"Información adicional:\",siNuevo)\n",
    "print(\"Los gastos mensuales son de\",mensuales,\"distribuidos en:\\nTransporte:\",\\\n",
    "     transport,\"\\nAlimentación:\",alimentacion,\"\\nAlimentación:\",alojamiento)"
   ]
  },
  {
   "cell_type": "code",
   "execution_count": null,
   "id": "5c949857",
   "metadata": {},
   "outputs": [],
   "source": []
  }
 ],
 "metadata": {
  "kernelspec": {
   "display_name": "Python 3 (ipykernel)",
   "language": "python",
   "name": "python3"
  },
  "language_info": {
   "codemirror_mode": {
    "name": "ipython",
    "version": 3
   },
   "file_extension": ".py",
   "mimetype": "text/x-python",
   "name": "python",
   "nbconvert_exporter": "python",
   "pygments_lexer": "ipython3",
   "version": "3.10.11"
  }
 },
 "nbformat": 4,
 "nbformat_minor": 5
}
