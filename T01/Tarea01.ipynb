{
 "cells": [
  {
   "attachments": {},
   "cell_type": "markdown",
   "id": "e5e953aa",
   "metadata": {},
   "source": [
    "#### Punto 1.\n",
    "- Lleve a cabo una revisión conceptual del \"Teorema de Transporte de Reynolds\" (TTR)\n",
    "- Presente una versión resumida pero clara del desarrollo matemático para la obtención de la expresión final del TTR\n",
    "\n",
    "There are two ways to apply the governing laws in the fluid mechanics analyses: the system and the control volume approach. The **System** is a collection of matter that remains fixed, it means that the amount of fluid particles is always the same. Additionally, the system can move and interact with its surroundings. On the other hand, the **Control volumen** is a volumen in space that does not depent on mass, and through which the fluid may flow.\n",
    "\n",
    "The system approach is also known as Lagrangian description, wheree we follow the fluid and observe its behavior as it move about. On the other hand, the C.V. approach is also know as Eulerian description, where we observe the fluid's behavior at a fixed location. All of the governing equations that describe the fluid motion are stated in terms of a system. For instance, \"The energy of the system remains constant\" or \"The mass of the system remains constant\". If we want to change the system approach of the governing laws into a C.V. approach, it is necessary to apply the Reynold Transport Theorem (or RTT).\n",
    "\n",
    "When would it be useful to apply an Eulerian/Control Volume approach instead of a Lagrangian/System approach? When we  \n",
    "are interesting on a particular object/volumen in space with which the fluid is interacting with. For example, when we want to know the force that the fluid is exerting on the airplane's wings. \n",
    "\n",
    " \n",
    " \n"
   ]
  },
  {
   "cell_type": "code",
   "execution_count": null,
   "id": "b07a6116",
   "metadata": {},
   "outputs": [],
   "source": []
  }
 ],
 "metadata": {
  "kernelspec": {
   "display_name": "Python 3 (ipykernel)",
   "language": "python",
   "name": "python3"
  },
  "language_info": {
   "codemirror_mode": {
    "name": "ipython",
    "version": 3
   },
   "file_extension": ".py",
   "mimetype": "text/x-python",
   "name": "python",
   "nbconvert_exporter": "python",
   "pygments_lexer": "ipython3",
   "version": "3.10.11"
  }
 },
 "nbformat": 4,
 "nbformat_minor": 5
}
