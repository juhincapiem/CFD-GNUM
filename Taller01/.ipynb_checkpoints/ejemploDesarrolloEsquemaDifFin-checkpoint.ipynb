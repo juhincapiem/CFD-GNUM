{
 "cells": [
  {
   "cell_type": "code",
   "execution_count": null,
   "metadata": {
    "id": "2FwpRo4GwVaU"
   },
   "outputs": [],
   "source": [
    "# Standard workhorses\n",
    "import numpy as np\n",
    "import matplotlib.pyplot as plt\n",
    "#from sympy import sympify\n",
    "from fractions import Fraction\n",
    "\n",
    "# Seaborn, useful for graphics\n",
    "import seaborn as sns\n",
    "\n",
    "# Magic function to make matplotlib inline; other style specs must come AFTER\n",
    "%matplotlib inline\n",
    "\n",
    "# This enables SVG graphics inline (only use with static plots (non-Bokeh))\n",
    "%config InlineBackend.figure_formats = {'svg',}"
   ]
  },
  {
   "cell_type": "markdown",
   "metadata": {
    "id": "OCD3BeKhQMFk"
   },
   "source": [
    "# **Desarrollo de un esquema de diferencias finitas**\n",
    "\n",
    "Como ejemplo simple de la formulación de un esquema de diferencias finitas, veamos como se podría llevara a cabo la formulación de un esquema de orden 4 para una segunda derivada.\n",
    "\n",
    "En una formulación centrada se necesitaran tantos puntos de expansión hacia adelante, como hacia atrás.  Adicionalmente, dado que queremos un esquema de orden 4 para segunda derivada, es claro que necesitaremos incluir de manera explícita los términos hasta, al menos, la sexta derivada ($f^{(6)}$).\n",
    "\n",
    "Bajo las anteriores consideraciones, se proponen usar las siguientes expansiones:\n",
    "\n",
    "\\begin{align}\n",
    "f_{i-3} &= f_{i} - 3 \\Delta x f^{(1)} + \\dfrac{9\\Delta x^2}{2!} f^{(2)} -\n",
    " \\dfrac{27\\Delta x^3}{3!} f^{(3)} + \\dfrac{81\\Delta x^4}{4!} f^{(4)} - \\dfrac{243\\Delta x^5}{5!} f^{(5)} + \\dfrac{729\\Delta x^6}{6!} f^{(6)}  \\\\\n",
    " \\\\\n",
    "f_{i-2} &= f_{i} - 2 \\Delta x f^{(1)} + \\dfrac{4\\Delta x^2}{2!} f^{(2)} -\n",
    " \\dfrac{8\\Delta x^3}{3!} f^{(3)} + \\dfrac{16\\Delta x^4}{4!} f^{(4)} - \\dfrac{32\\Delta x^5}{5!} f^{(5)} + \\dfrac{64\\Delta x^6}{6!} f^{(6)}  \\\\\n",
    " \\\\\n",
    "f_{i-1} &= f_{i} - \\Delta x f^{(1)} + \\dfrac{\\Delta x^2}{2!} f^{(2)} -\n",
    " \\dfrac{\\Delta x^3}{3!} f^{(3)} + \\dfrac{\\Delta x^4}{4!} f^{(4)} - \\dfrac{\\Delta x^5}{5!} f^{(5)} + \\dfrac{\\Delta x^6}{6!} f^{(6)}  \\\\\n",
    " \\\\\n",
    " f_{i+1} &= f_{i} + \\Delta x f^{(1)} + \\dfrac{\\Delta x^2}{2!} f^{(2)} +\n",
    " \\dfrac{\\Delta x^3}{3!} f^{(3)} + \\dfrac{\\Delta x^4}{4!} f^{(4)} + \\dfrac{\\Delta x^5}{5!} f^{(5)} + \\dfrac{\\Delta x^6}{6!} f^{(6)}  \\\\\n",
    "\\\\\n",
    " f_{i+2} &= f_{i} + 2 \\Delta x f^{(1)} + \\dfrac{4\\Delta x^2}{2!} f^{(2)} +\n",
    " \\dfrac{8\\Delta x^3}{3!} f^{(3)} + \\dfrac{16\\Delta x^4}{4!} f^{(4)} + \\dfrac{32\\Delta x^5}{5!} f^{(5)} + \\dfrac{64\\Delta x^6}{6!} f^{(6)}  \\\\\n",
    " \\\\\n",
    " f_{i+3} &= f_{i} + 3 \\Delta x f^{(1)} + \\dfrac{9\\Delta x^2}{2!} f^{(2)} +\n",
    " \\dfrac{27\\Delta x^3}{3!} f^{(3)} + \\dfrac{81\\Delta x^4}{4!} f^{(4)} + \\dfrac{243\\Delta x^5}{5!} f^{(5)} + \\dfrac{729\\Delta x^6}{6!} f^{(6)}\n",
    "\\end{align}\n",
    "\n",
    "La combinación lineal de este conjunto de ecuaciones, puede escribirse como\n",
    "\n",
    "\\begin{align}\n",
    "\\omega_0\\,f_{i-3} &= \\omega_{0}\\left(f_{i} - 3 \\Delta x f^{(1)} + \\dfrac{9\\Delta x^2}{2!} f^{(2)} -\n",
    " \\dfrac{27\\Delta x^3}{3!} f^{(3)} + \\dfrac{81\\Delta x^4}{4!} f^{(4)} - \\dfrac{243\\Delta x^5}{5!} f^{(5)} + \\dfrac{729\\Delta x^6}{6!} f^{(6)}\\right)  \\\\\n",
    " \\\\\n",
    "\\omega_1\\,f_{i-2} &= \\omega_{1}\\left(f_{i} - 2 \\Delta x f^{(1)} + \\dfrac{4\\Delta x^2}{2!} f^{(2)} -\n",
    " \\dfrac{8\\Delta x^3}{3!} f^{(3)} + \\dfrac{16\\Delta x^4}{4!} f^{(4)} - \\dfrac{32\\Delta x^5}{5!} f^{(5)} + \\dfrac{64\\Delta x^6}{6!} f^{(6)}\\right)  \\\\\n",
    " \\\\\n",
    "\\omega_2\\,f_{i-1} &= \\omega_{2}\\left(f_{i} - \\Delta x f^{(1)} + \\dfrac{\\Delta x^2}{2!} f^{(2)} -\n",
    " \\dfrac{\\Delta x^3}{3!} f^{(3)} + \\dfrac{\\Delta x^4}{4!} f^{(4)} - \\dfrac{\\Delta x^5}{5!} f^{(5)} + \\dfrac{\\Delta x^6}{6!} f^{(6)}\\right)  \\\\\n",
    " \\\\\n",
    "\\omega_3\\,f_{i+1} &= \\omega_{3}\\left(f_{i} + \\Delta x f^{(1)} + \\dfrac{\\Delta x^2}{2!} f^{(2)} +\n",
    " \\dfrac{\\Delta x^3}{3!} f^{(3)} + \\dfrac{\\Delta x^4}{4!} f^{(4)} + \\dfrac{\\Delta x^5}{5!} f^{(5)} + \\dfrac{\\Delta x^6}{6!} f^{(6)}\\right)  \\\\\n",
    " \\\\\n",
    "\\omega_4\\,f_{i+2} &= \\omega_{4}\\left(f_{i} + 2 \\Delta x f^{(1)} + \\dfrac{4\\Delta x^2}{2!} f^{(2)} +\n",
    " \\dfrac{8\\Delta x^3}{3!} f^{(3)} + \\dfrac{16\\Delta x^4}{4!} f^{(4)} + \\dfrac{32\\Delta x^5}{5!} f^{(5)} + \\dfrac{64\\Delta x^6}{6!} f^{(6)}\\right)  \\\\\n",
    " \\\\\n",
    "\\omega_5\\,f_{i+3} &= \\omega_{5}\\left(f_{i} + 3 \\Delta x f^{(1)} + \\dfrac{9\\Delta x^2}{2!} f^{(2)} +\n",
    " \\dfrac{27\\Delta x^3}{3!} f^{(3)} + \\dfrac{81\\Delta x^4}{4!} f^{(4)} + \\dfrac{243\\Delta x^5}{5!} f^{(5)} + \\dfrac{729\\Delta x^6}{6!} f^{(6)} \\right)\n",
    "\\end{align}\n",
    "\n",
    "Para la formulación del esquema propuesto, forzaremos solamente seis condiciones:\n",
    "\n",
    "* Coeficientes asociados a: $\\Delta x f^{(1)}$, $\\Delta x^3 f^{(3)}/3!$, $\\Delta x^4 f^{(4)}/4!$, y $\\Delta x^5 f^{(5)}/5!$,  todos deben ser simultaneamente $0$.\n",
    "* Coeficiente asociado a: $\\frac{\\Delta x^2 f^{(2)}}{2!}$ debe ser exactamente $1$.\n",
    "* Coeficiente asociado a: $\\frac{\\Delta x^6 f^{(6)}}{6!}$ va a ser un valor de holgura $\\alpha$.\n",
    "\n",
    "De esta manera, el sistema de ecuaciones a resolver para encontrar el esquema buscado, se puede expresar como\n",
    "\n",
    "\\begin{equation}\n",
    "\\begin{bmatrix}\n",
    "-3 & -2 & -1 & 1 & 2 & 3 \\\\\n",
    "9 & 4 & 1 & 1 & 4 & 9 \\\\\n",
    "-27 & -8 & -1 & 1 & 8 & 27 \\\\\n",
    "81 & 16 & 1 & 1 & 16 & 81 \\\\\n",
    "-243 & -32 & -1 & 1 & 32 & 243 \\\\\n",
    "729 & 64 & 1 & 1 & 64 & 729\n",
    "\\end{bmatrix}\n",
    "\\begin{bmatrix}\n",
    "\\omega_0 \\\\\n",
    "\\omega_1 \\\\\n",
    "\\omega_2 \\\\\n",
    "\\omega_3 \\\\\n",
    "\\omega_4 \\\\\n",
    "\\omega_5\n",
    "\\end{bmatrix}\n",
    "=\n",
    "\\begin{bmatrix}\n",
    "0 \\\\\n",
    "2! \\\\\n",
    "0 \\\\\n",
    "0 \\\\\n",
    "0 \\\\\n",
    "\\alpha\n",
    "\\end{bmatrix}\n",
    "\\end{equation}\n",
    "\n",
    "Sistema que podemos resolver de manera simple con un código numérico como el mostrado a continuación"
   ]
  },
  {
   "cell_type": "code",
   "execution_count": null,
   "metadata": {
    "colab": {
     "base_uri": "https://localhost:8080/"
    },
    "id": "x-iEwDTjwkFE",
    "outputId": "50a478b8-b4d6-4184-bfa1-293d8c9ae194"
   },
   "outputs": [
    {
     "data": {
      "text/plain": [
       "array([ 0.01111111, -0.15      ,  1.5       ,  1.5       , -0.15      ,\n",
       "        0.01111111])"
      ]
     },
     "execution_count": 2,
     "metadata": {},
     "output_type": "execute_result"
    }
   ],
   "source": [
    "matCoefs = np.array([[-3.0,-2.0,-1.0,1.0,2.0,3.0],\n",
    "                     [ 9.0, 4.0, 1.0,1.0,4.0,9.0],\n",
    "                     [-27.0,-8.0,-1.0,1.0,8.0,27.0],\n",
    "                     [ 81.0,16.0, 1.0,1.0,16.0,81.0],\n",
    "                     [-243.0,-32.0,-1.0,1.0,32.0,243.0],\n",
    "                     [729.0,64.0, 1.0,1.0,64.0,729.0]\n",
    "                     ],dtype=np.float64);\n",
    "alpha = 0.0;\n",
    "vecRHS = np.array([0.0,2.0,0.0,0.0,0.0,alpha],dtype=np.float64);\n",
    "\n",
    "vecOmegas = np.linalg.solve(matCoefs,vecRHS)\n",
    "\n",
    "vecOmegas"
   ]
  },
  {
   "cell_type": "code",
   "execution_count": null,
   "metadata": {
    "colab": {
     "base_uri": "https://localhost:8080/"
    },
    "id": "qiM7KU6grYZl",
    "outputId": "0c9c3280-c16a-47ab-a7cb-afd58fa95afd"
   },
   "outputs": [
    {
     "data": {
      "text/plain": [
       "90.00000000000003"
      ]
     },
     "execution_count": 3,
     "metadata": {},
     "output_type": "execute_result"
    }
   ],
   "source": [
    "  1.0/vecOmegas[0]"
   ]
  },
  {
   "cell_type": "code",
   "execution_count": null,
   "metadata": {
    "colab": {
     "base_uri": "https://localhost:8080/"
    },
    "id": "gsRZtrmTspyY",
    "outputId": "556a53dd-ac02-4ee4-a332-87c3d479a8d2"
   },
   "outputs": [
    {
     "data": {
      "text/plain": [
       "-53.999999999999986"
      ]
     },
     "execution_count": 5,
     "metadata": {},
     "output_type": "execute_result"
    }
   ],
   "source": [
    "360.0*vecOmegas[1]"
   ]
  },
  {
   "cell_type": "code",
   "execution_count": null,
   "metadata": {
    "colab": {
     "base_uri": "https://localhost:8080/"
    },
    "id": "SWrtmXWYsuR0",
    "outputId": "c486cb7a-27d2-4d3f-ac65-78317c459a68"
   },
   "outputs": [
    {
     "data": {
      "text/plain": [
       "539.9999999999999"
      ]
     },
     "execution_count": 6,
     "metadata": {},
     "output_type": "execute_result"
    }
   ],
   "source": [
    "360*vecOmegas[2]"
   ]
  },
  {
   "cell_type": "code",
   "execution_count": null,
   "metadata": {
    "colab": {
     "base_uri": "https://localhost:8080/"
    },
    "id": "loLwDjRzsw_W",
    "outputId": "96701e8c-8858-465d-81f7-44200e51327f"
   },
   "outputs": [
    {
     "data": {
      "text/plain": [
       "539.9999999999999"
      ]
     },
     "execution_count": 7,
     "metadata": {},
     "output_type": "execute_result"
    }
   ],
   "source": [
    "360*vecOmegas[3]"
   ]
  },
  {
   "cell_type": "code",
   "execution_count": null,
   "metadata": {
    "colab": {
     "base_uri": "https://localhost:8080/"
    },
    "id": "_TJQkggsszPH",
    "outputId": "fdae0b88-fbc6-4014-f5bf-c76c6f60652c"
   },
   "outputs": [
    {
     "data": {
      "text/plain": [
       "-53.99999999999998"
      ]
     },
     "execution_count": 8,
     "metadata": {},
     "output_type": "execute_result"
    }
   ],
   "source": [
    "360*vecOmegas[4]"
   ]
  },
  {
   "cell_type": "code",
   "execution_count": null,
   "metadata": {
    "colab": {
     "base_uri": "https://localhost:8080/"
    },
    "id": "IdeO9UBq5eUK",
    "outputId": "a1e53ffd-05e5-4949-fe4d-97d43bf8c173"
   },
   "outputs": [
    {
     "data": {
      "text/plain": [
       "3.999999999999998"
      ]
     },
     "execution_count": 9,
     "metadata": {},
     "output_type": "execute_result"
    }
   ],
   "source": [
    "360*vecOmegas[5]"
   ]
  },
  {
   "cell_type": "markdown",
   "metadata": {
    "id": "jT_qyTwy5rLa"
   },
   "source": [
    "De esta manera podemos ver que, bajo este enfoque, el esquema de diferencias finitas de orden 5 (con $\\alpha=0$) para segunda derivada se puede plantear como\n",
    "\n",
    "\\begin{equation}\n",
    "\\dfrac{\\partial^2 f}{\\partial x^2} = \\dfrac{4f_{i-3}-54f_{i-2}+540f_{i-1}-\n",
    "980f_{i}+540f_{i+1}-54f_{i+2}+4f_{i+3}}{360 \\Delta x^2} + O(\\Delta x^5)\n",
    "\\end{equation}"
   ]
  },
  {
   "cell_type": "code",
   "execution_count": null,
   "metadata": {
    "colab": {
     "base_uri": "https://localhost:8080/"
    },
    "id": "rKXSzD0nJRw5",
    "outputId": "4ab16c26-274f-4b8b-ab52-46482a82af66"
   },
   "outputs": [
    {
     "data": {
      "text/plain": [
       "array([-0.16666667,  0.66666667,  0.66666667, -0.16666667])"
      ]
     },
     "execution_count": 3,
     "metadata": {},
     "output_type": "execute_result"
    }
   ],
   "source": [
    "matCoefs = np.array([[1.0,1.0, 1.0,1.0],\n",
    "                     [1.0, 0.0, 0.0,-1.0],\n",
    "                     [-1.0/3.0,-1.0/12.0,-1.0/12.0,-1.0/3.0],\n",
    "                     [2.0/15.0, 1.0/60.0, -1.0/60.0, -2.0/15.0]\n",
    "                     ],dtype=np.float64);\n",
    "alpha = 1.0;\n",
    "vecRHS = np.array([alpha,0.0,0.0,0.0],dtype=np.float64);\n",
    "\n",
    "vecOmegas = np.linalg.solve(matCoefs,vecRHS)\n",
    "\n",
    "vecOmegas"
   ]
  },
  {
   "cell_type": "code",
   "execution_count": null,
   "metadata": {
    "colab": {
     "base_uri": "https://localhost:8080/"
    },
    "id": "gM8YHTgjKXzQ",
    "outputId": "d30ee2e3-2ebb-46cf-d1f8-ad31596d97de"
   },
   "outputs": [
    {
     "data": {
      "text/plain": [
       "-1.0000000000000004"
      ]
     },
     "execution_count": 9,
     "metadata": {},
     "output_type": "execute_result"
    }
   ],
   "source": [
    "6.0*vecOmegas[0]"
   ]
  },
  {
   "cell_type": "code",
   "execution_count": null,
   "metadata": {
    "colab": {
     "base_uri": "https://localhost:8080/"
    },
    "id": "r2URVloRKpLq",
    "outputId": "0e3b3c44-11c8-4770-d023-74ce9f3b339b"
   },
   "outputs": [
    {
     "data": {
      "text/plain": [
       "4.0"
      ]
     },
     "execution_count": 5,
     "metadata": {},
     "output_type": "execute_result"
    }
   ],
   "source": [
    "6.0*vecOmegas[1]"
   ]
  },
  {
   "cell_type": "code",
   "execution_count": null,
   "metadata": {
    "colab": {
     "base_uri": "https://localhost:8080/"
    },
    "id": "jKOkjFa3Ku3L",
    "outputId": "b33cb828-5e5d-49a2-c97d-5c6fef31dee7"
   },
   "outputs": [
    {
     "data": {
      "text/plain": [
       "5.999999999999999"
      ]
     },
     "execution_count": 6,
     "metadata": {},
     "output_type": "execute_result"
    }
   ],
   "source": [
    "vecOmegas.sum()*6.0"
   ]
  },
  {
   "cell_type": "code",
   "execution_count": null,
   "metadata": {
    "colab": {
     "base_uri": "https://localhost:8080/"
    },
    "id": "FBXPyKT7LU5D",
    "outputId": "a0da9269-bfa7-4569-9706-189406fb06f9"
   },
   "outputs": [
    {
     "data": {
      "text/plain": [
       "4.0"
      ]
     },
     "execution_count": 7,
     "metadata": {},
     "output_type": "execute_result"
    }
   ],
   "source": [
    "6.0*vecOmegas[2]"
   ]
  },
  {
   "cell_type": "code",
   "execution_count": null,
   "metadata": {
    "colab": {
     "base_uri": "https://localhost:8080/"
    },
    "id": "UemwnCeTL8bF",
    "outputId": "c85210fe-279c-4725-9bba-1e855a5fbbde"
   },
   "outputs": [
    {
     "data": {
      "text/plain": [
       "-0.9999999999999998"
      ]
     },
     "execution_count": 8,
     "metadata": {},
     "output_type": "execute_result"
    }
   ],
   "source": [
    "6.0*vecOmegas[3]"
   ]
  },
  {
   "cell_type": "code",
   "execution_count": null,
   "metadata": {
    "id": "xAtqct9JMEjl"
   },
   "outputs": [],
   "source": [
    "EsquemaVec=np.array([6.0*vecOmegas[0],24.0*vecOmegas[1],24.0*vecOmegas[2],6.0*vecOmegas[3]])"
   ]
  },
  {
   "cell_type": "code",
   "execution_count": null,
   "metadata": {
    "colab": {
     "base_uri": "https://localhost:8080/"
    },
    "id": "REX7w2TppWun",
    "outputId": "5de0c5a2-77c9-42f0-d491-d8ae3e7b9d90"
   },
   "outputs": [
    {
     "data": {
      "text/plain": [
       "array([-1., 16., 16., -1.])"
      ]
     },
     "execution_count": 11,
     "metadata": {},
     "output_type": "execute_result"
    }
   ],
   "source": [
    "EsquemaVec"
   ]
  },
  {
   "cell_type": "code",
   "execution_count": null,
   "metadata": {
    "id": "h3JHe08PpZTh"
   },
   "outputs": [],
   "source": []
  }
 ],
 "metadata": {
  "colab": {
   "provenance": []
  },
  "kernelspec": {
   "display_name": "Python 3 (ipykernel)",
   "language": "python",
   "name": "python3"
  },
  "language_info": {
   "codemirror_mode": {
    "name": "ipython",
    "version": 3
   },
   "file_extension": ".py",
   "mimetype": "text/x-python",
   "name": "python",
   "nbconvert_exporter": "python",
   "pygments_lexer": "ipython3",
   "version": "3.10.11"
  }
 },
 "nbformat": 4,
 "nbformat_minor": 1
}
